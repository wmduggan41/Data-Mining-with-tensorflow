{
  "nbformat": 4,
  "nbformat_minor": 0,
  "metadata": {
    "colab": {
      "name": "00_tensorflow_fundamentals.ipynb",
      "provenance": [],
      "collapsed_sections": [],
      "authorship_tag": "ABX9TyO0N3NZpvzRa/fLEFcpodLe",
      "include_colab_link": true
    },
    "kernelspec": {
      "name": "python3",
      "display_name": "Python 3"
    },
    "language_info": {
      "name": "python"
    }
  },
  "cells": [
    {
      "cell_type": "markdown",
      "metadata": {
        "id": "view-in-github",
        "colab_type": "text"
      },
      "source": [
        "<a href=\"https://colab.research.google.com/github/wmduggan41/Data-Mining/blob/master/00_tensorflow_fundamentals.ipynb\" target=\"_parent\"><img src=\"https://colab.research.google.com/assets/colab-badge.svg\" alt=\"Open In Colab\"/></a>"
      ]
    },
    {
      "cell_type": "markdown",
      "source": [
        "# My fundamental notebook of tensor concepts using TensorFlow\n",
        "\n",
        "More specifically, we're going to cover:\n",
        "* Introduction to tensors\n",
        "* Getting information from tensors\n",
        "* Manipulating tensors\n",
        "* Tensors & NumPy\n",
        "* Using @tf.function (a way to speed up your regular Python functions)\n",
        "* Using GPUs with TensorFlow (or TPUs)\n",
        "* Exercises to try for yourself\n",
        "\n",
        "### Introduction to Tensors"
      ],
      "metadata": {
        "id": "wRa7vn-affrn"
      }
    },
    {
      "cell_type": "code",
      "source": [
        "# Import TensorFlow\n",
        "import tensorflow as tf\n",
        "print(tf.__version__)"
      ],
      "metadata": {
        "colab": {
          "base_uri": "https://localhost:8080/"
        },
        "id": "eKAs-gGvf9Ka",
        "outputId": "f17cf89c-9c56-4183-8be0-a5e7ffdd43ef"
      },
      "execution_count": 1,
      "outputs": [
        {
          "output_type": "stream",
          "name": "stdout",
          "text": [
            "2.8.0\n"
          ]
        }
      ]
    },
    {
      "cell_type": "code",
      "source": [
        "# Create tensors with tf.constant()\n",
        "scalar = tf.constant(7)\n",
        "scalar"
      ],
      "metadata": {
        "colab": {
          "base_uri": "https://localhost:8080/"
        },
        "id": "zZwgo2rWhLth",
        "outputId": "7bdb4b59-65e4-4289-c7b3-654f8cb05c56"
      },
      "execution_count": 2,
      "outputs": [
        {
          "output_type": "execute_result",
          "data": {
            "text/plain": [
              "<tf.Tensor: shape=(), dtype=int32, numpy=7>"
            ]
          },
          "metadata": {},
          "execution_count": 2
        }
      ]
    },
    {
      "cell_type": "code",
      "source": [
        "# Check the number of dimensions of a tensor (ndim stands for number of dimensions)\n",
        "scalar.ndim"
      ],
      "metadata": {
        "colab": {
          "base_uri": "https://localhost:8080/"
        },
        "id": "7zPfdcivhdWC",
        "outputId": "b52e6a4c-346a-46f2-ea7e-0c801d59b177"
      },
      "execution_count": 3,
      "outputs": [
        {
          "output_type": "execute_result",
          "data": {
            "text/plain": [
              "0"
            ]
          },
          "metadata": {},
          "execution_count": 3
        }
      ]
    },
    {
      "cell_type": "code",
      "source": [
        "# Create a vector \n",
        "vector = tf.constant([10, 10])\n",
        "vector"
      ],
      "metadata": {
        "colab": {
          "base_uri": "https://localhost:8080/"
        },
        "id": "ayvjrODNh6Ga",
        "outputId": "dc5fa3a0-3913-4940-cbc8-29125283b327"
      },
      "execution_count": 4,
      "outputs": [
        {
          "output_type": "execute_result",
          "data": {
            "text/plain": [
              "<tf.Tensor: shape=(2,), dtype=int32, numpy=array([10, 10], dtype=int32)>"
            ]
          },
          "metadata": {},
          "execution_count": 4
        }
      ]
    },
    {
      "cell_type": "code",
      "source": [
        "# Check the dimensions of our vecotr\n",
        "vector.ndim"
      ],
      "metadata": {
        "colab": {
          "base_uri": "https://localhost:8080/"
        },
        "id": "YiH6b4vYiO9g",
        "outputId": "0d3ec344-c57a-4f17-bbb6-f55702d8d1e1"
      },
      "execution_count": 5,
      "outputs": [
        {
          "output_type": "execute_result",
          "data": {
            "text/plain": [
              "1"
            ]
          },
          "metadata": {},
          "execution_count": 5
        }
      ]
    },
    {
      "cell_type": "code",
      "source": [
        "# Create a matrix (has more than 1 dimension)\n",
        "matrix = tf.constant(([10, 7],\n",
        "                       [7, 10]))\n",
        "matrix"
      ],
      "metadata": {
        "colab": {
          "base_uri": "https://localhost:8080/"
        },
        "id": "-r979byTiU_R",
        "outputId": "bafcdeb0-6b80-4d5e-b5bc-e7ee0de45492"
      },
      "execution_count": 6,
      "outputs": [
        {
          "output_type": "execute_result",
          "data": {
            "text/plain": [
              "<tf.Tensor: shape=(2, 2), dtype=int32, numpy=\n",
              "array([[10,  7],\n",
              "       [ 7, 10]], dtype=int32)>"
            ]
          },
          "metadata": {},
          "execution_count": 6
        }
      ]
    },
    {
      "cell_type": "code",
      "source": [
        "matrix.ndim"
      ],
      "metadata": {
        "colab": {
          "base_uri": "https://localhost:8080/"
        },
        "id": "9TbnWJjLixJc",
        "outputId": "ca2d30f4-4ada-4a1f-80f9-5d1f6e57a28b"
      },
      "execution_count": 7,
      "outputs": [
        {
          "output_type": "execute_result",
          "data": {
            "text/plain": [
              "2"
            ]
          },
          "metadata": {},
          "execution_count": 7
        }
      ]
    },
    {
      "cell_type": "code",
      "source": [
        "# Create another matrix\n",
        "another_matrix = tf.constant(([10., 7.],\n",
        "                              [3., 2.],\n",
        "                              [8., 9.]), dtype=tf.float16) #specify te data type with dtype parameter\n",
        "another_matrix"
      ],
      "metadata": {
        "colab": {
          "base_uri": "https://localhost:8080/"
        },
        "id": "kEsUSMSai8Rv",
        "outputId": "b35679e5-419f-48a1-ed7d-0794a17f8e13"
      },
      "execution_count": 8,
      "outputs": [
        {
          "output_type": "execute_result",
          "data": {
            "text/plain": [
              "<tf.Tensor: shape=(3, 2), dtype=float16, numpy=\n",
              "array([[10.,  7.],\n",
              "       [ 3.,  2.],\n",
              "       [ 8.,  9.]], dtype=float16)>"
            ]
          },
          "metadata": {},
          "execution_count": 8
        }
      ]
    },
    {
      "cell_type": "code",
      "source": [
        "# What's the number of dimensions of another_matrix?\n",
        "another_matrix.ndim"
      ],
      "metadata": {
        "colab": {
          "base_uri": "https://localhost:8080/"
        },
        "id": "_uhJh0qOkHpW",
        "outputId": "08174782-340f-48dd-930e-6b1def73ba29"
      },
      "execution_count": 9,
      "outputs": [
        {
          "output_type": "execute_result",
          "data": {
            "text/plain": [
              "2"
            ]
          },
          "metadata": {},
          "execution_count": 9
        }
      ]
    },
    {
      "cell_type": "code",
      "source": [
        "# Let's create a tensor\n",
        "tensor = tf.constant([[[1, 2, 3],\n",
        "                       [4, 5, 6]],\n",
        "                      [[7, 8, 9],\n",
        "                       [10, 11, 12]],\n",
        "                      [[13, 14, 15],\n",
        "                       [16, 17, 18]]])\n",
        "tensor"
      ],
      "metadata": {
        "colab": {
          "base_uri": "https://localhost:8080/"
        },
        "id": "qDxwXtzOkWLU",
        "outputId": "85ab7d04-8210-4ffe-ab10-e5ad6bd230d1"
      },
      "execution_count": 10,
      "outputs": [
        {
          "output_type": "execute_result",
          "data": {
            "text/plain": [
              "<tf.Tensor: shape=(3, 2, 3), dtype=int32, numpy=\n",
              "array([[[ 1,  2,  3],\n",
              "        [ 4,  5,  6]],\n",
              "\n",
              "       [[ 7,  8,  9],\n",
              "        [10, 11, 12]],\n",
              "\n",
              "       [[13, 14, 15],\n",
              "        [16, 17, 18]]], dtype=int32)>"
            ]
          },
          "metadata": {},
          "execution_count": 10
        }
      ]
    },
    {
      "cell_type": "code",
      "source": [
        "tensor.ndim"
      ],
      "metadata": {
        "colab": {
          "base_uri": "https://localhost:8080/"
        },
        "id": "t_2fkJ0mljvq",
        "outputId": "77d94fc2-cd09-4745-bdd1-1353966c0712"
      },
      "execution_count": 11,
      "outputs": [
        {
          "output_type": "execute_result",
          "data": {
            "text/plain": [
              "3"
            ]
          },
          "metadata": {},
          "execution_count": 11
        }
      ]
    },
    {
      "cell_type": "markdown",
      "source": [
        "What we've created so far:\n",
        "\n",
        "* Scalar: a single number\n",
        "* Vector: a number with direction (e.g wind speed and direction)\n",
        "* Matrix: a 2-dimensional array of numbers \n",
        "* Tensor: an n-dimensional array of numbers (where n can be any number, a 0-dimensional tensor is a scalar, a 1-dimensionsal tensor is a vector)"
      ],
      "metadata": {
        "id": "AR8UiZ3mlzAB"
      }
    },
    {
      "cell_type": "markdown",
      "source": [
        "### Creating tensors with `tf.Variable`"
      ],
      "metadata": {
        "id": "EWpVUHqQkYCZ"
      }
    },
    {
      "cell_type": "code",
      "source": [
        "tf.Variable"
      ],
      "metadata": {
        "id": "eHumKjA6mmRI",
        "colab": {
          "base_uri": "https://localhost:8080/"
        },
        "outputId": "da082afa-97cc-492b-96f2-216392e2d43f"
      },
      "execution_count": 12,
      "outputs": [
        {
          "output_type": "execute_result",
          "data": {
            "text/plain": [
              "tensorflow.python.ops.variables.Variable"
            ]
          },
          "metadata": {},
          "execution_count": 12
        }
      ]
    },
    {
      "cell_type": "code",
      "source": [
        "# Create the same tensor with tf.Variable() as above\n",
        "changeable_tensor = tf.Variable([10, 7])\n",
        "unchangeable_tensor = tf.constant([10, 7])\n",
        "changeable_tensor, unchangeable_tensor"
      ],
      "metadata": {
        "colab": {
          "base_uri": "https://localhost:8080/"
        },
        "id": "OuTPXzDvmNh3",
        "outputId": "1e882dd1-541f-4bfb-87e6-bde75980ece5"
      },
      "execution_count": 13,
      "outputs": [
        {
          "output_type": "execute_result",
          "data": {
            "text/plain": [
              "(<tf.Variable 'Variable:0' shape=(2,) dtype=int32, numpy=array([10,  7], dtype=int32)>,\n",
              " <tf.Tensor: shape=(2,), dtype=int32, numpy=array([10,  7], dtype=int32)>)"
            ]
          },
          "metadata": {},
          "execution_count": 13
        }
      ]
    },
    {
      "cell_type": "code",
      "source": [
        "# Let's try to change one of the elements in our changeable tensor\n",
        "changeable_tensor[0] = 7\n",
        "changeable_tensor"
      ],
      "metadata": {
        "colab": {
          "base_uri": "https://localhost:8080/",
          "height": 200
        },
        "id": "qwrR2CH6myV7",
        "outputId": "103146e8-2f3f-444f-ecf7-bffb78017bd3"
      },
      "execution_count": 14,
      "outputs": [
        {
          "output_type": "error",
          "ename": "TypeError",
          "evalue": "ignored",
          "traceback": [
            "\u001b[0;31m---------------------------------------------------------------------------\u001b[0m",
            "\u001b[0;31mTypeError\u001b[0m                                 Traceback (most recent call last)",
            "\u001b[0;32m<ipython-input-14-9972a815a90d>\u001b[0m in \u001b[0;36m<module>\u001b[0;34m()\u001b[0m\n\u001b[1;32m      1\u001b[0m \u001b[0;31m# Let's try to change one of the elements in our changeable tensor\u001b[0m\u001b[0;34m\u001b[0m\u001b[0;34m\u001b[0m\u001b[0;34m\u001b[0m\u001b[0m\n\u001b[0;32m----> 2\u001b[0;31m \u001b[0mchangeable_tensor\u001b[0m\u001b[0;34m[\u001b[0m\u001b[0;36m0\u001b[0m\u001b[0;34m]\u001b[0m \u001b[0;34m=\u001b[0m \u001b[0;36m7\u001b[0m\u001b[0;34m\u001b[0m\u001b[0;34m\u001b[0m\u001b[0m\n\u001b[0m\u001b[1;32m      3\u001b[0m \u001b[0mchangeable_tensor\u001b[0m\u001b[0;34m\u001b[0m\u001b[0;34m\u001b[0m\u001b[0m\n",
            "\u001b[0;31mTypeError\u001b[0m: 'ResourceVariable' object does not support item assignment"
          ]
        }
      ]
    },
    {
      "cell_type": "code",
      "source": [
        "# How about we try .assign()\n",
        "changeable_tensor[0].assign(7)\n",
        "changeable_tensor"
      ],
      "metadata": {
        "colab": {
          "base_uri": "https://localhost:8080/"
        },
        "id": "k36CoCqknCM8",
        "outputId": "edbf5051-b071-4f62-b712-7a6093f066eb"
      },
      "execution_count": 15,
      "outputs": [
        {
          "output_type": "execute_result",
          "data": {
            "text/plain": [
              "<tf.Variable 'Variable:0' shape=(2,) dtype=int32, numpy=array([7, 7], dtype=int32)>"
            ]
          },
          "metadata": {},
          "execution_count": 15
        }
      ]
    },
    {
      "cell_type": "code",
      "source": [
        "# Let's try change our uncangeable tensor\n",
        "unchangeable_tensor[0].assign(7)\n",
        "unchangeable_tensor"
      ],
      "metadata": {
        "colab": {
          "base_uri": "https://localhost:8080/",
          "height": 321
        },
        "id": "SdNuaJ__nQWb",
        "outputId": "e693e047-aab7-46fb-bd60-db2c37697fbf"
      },
      "execution_count": 57,
      "outputs": [
        {
          "output_type": "error",
          "ename": "AttributeError",
          "evalue": "ignored",
          "traceback": [
            "\u001b[0;31m---------------------------------------------------------------------------\u001b[0m",
            "\u001b[0;31mAttributeError\u001b[0m                            Traceback (most recent call last)",
            "\u001b[0;32m<ipython-input-57-ea006491ad00>\u001b[0m in \u001b[0;36m<module>\u001b[0;34m()\u001b[0m\n\u001b[1;32m      1\u001b[0m \u001b[0;31m# Let's try change our uncangeable tensor\u001b[0m\u001b[0;34m\u001b[0m\u001b[0;34m\u001b[0m\u001b[0;34m\u001b[0m\u001b[0m\n\u001b[0;32m----> 2\u001b[0;31m \u001b[0munchangeable_tensor\u001b[0m\u001b[0;34m[\u001b[0m\u001b[0;36m0\u001b[0m\u001b[0;34m]\u001b[0m\u001b[0;34m.\u001b[0m\u001b[0massign\u001b[0m\u001b[0;34m(\u001b[0m\u001b[0;36m7\u001b[0m\u001b[0;34m)\u001b[0m\u001b[0;34m\u001b[0m\u001b[0;34m\u001b[0m\u001b[0m\n\u001b[0m\u001b[1;32m      3\u001b[0m \u001b[0munchangeable_tensor\u001b[0m\u001b[0;34m\u001b[0m\u001b[0;34m\u001b[0m\u001b[0m\n",
            "\u001b[0;32m/usr/local/lib/python3.7/dist-packages/tensorflow/python/framework/ops.py\u001b[0m in \u001b[0;36m__getattr__\u001b[0;34m(self, name)\u001b[0m\n\u001b[1;32m    511\u001b[0m         \u001b[0;32mfrom\u001b[0m \u001b[0mtensorflow\u001b[0m\u001b[0;34m.\u001b[0m\u001b[0mpython\u001b[0m\u001b[0;34m.\u001b[0m\u001b[0mops\u001b[0m\u001b[0;34m.\u001b[0m\u001b[0mnumpy_ops\u001b[0m \u001b[0;32mimport\u001b[0m \u001b[0mnp_config\u001b[0m\u001b[0;34m\u001b[0m\u001b[0;34m\u001b[0m\u001b[0m\n\u001b[1;32m    512\u001b[0m         np_config.enable_numpy_behavior()\"\"\".format(type(self).__name__, name))\n\u001b[0;32m--> 513\u001b[0;31m     \u001b[0mself\u001b[0m\u001b[0;34m.\u001b[0m\u001b[0m__getattribute__\u001b[0m\u001b[0;34m(\u001b[0m\u001b[0mname\u001b[0m\u001b[0;34m)\u001b[0m\u001b[0;34m\u001b[0m\u001b[0;34m\u001b[0m\u001b[0m\n\u001b[0m\u001b[1;32m    514\u001b[0m \u001b[0;34m\u001b[0m\u001b[0m\n\u001b[1;32m    515\u001b[0m   \u001b[0;34m@\u001b[0m\u001b[0mstaticmethod\u001b[0m\u001b[0;34m\u001b[0m\u001b[0;34m\u001b[0m\u001b[0m\n",
            "\u001b[0;31mAttributeError\u001b[0m: 'tensorflow.python.framework.ops.EagerTensor' object has no attribute 'assign'"
          ]
        }
      ]
    },
    {
      "cell_type": "markdown",
      "source": [
        "### Above error as we cannot change `unchangeable_tensor` (this is a good thing). "
      ],
      "metadata": {
        "id": "uLPtWmfXoZcD"
      }
    },
    {
      "cell_type": "markdown",
      "source": [
        "### Creating random tensors\n",
        "\n",
        "Random tensors are tensors of some arbitrary size which contain numbers."
      ],
      "metadata": {
        "id": "oTijjLpZo2LS"
      }
    },
    {
      "cell_type": "code",
      "source": [
        "# Create two random (but the same) tensors\n",
        "random_1 = tf.random.Generator.from_seed(42) # set seed for reproducibility\n",
        "random_1 = random_1.normal(shape=(3, 2))\n",
        "random_2 = tf.random.Generator.from_seed(42)\n",
        "random_2 = random_2.normal(shape=(3, 2))\n",
        "\n",
        "# Are they equal?\n",
        "random_1, random_2, random_1 == random_2"
      ],
      "metadata": {
        "colab": {
          "base_uri": "https://localhost:8080/"
        },
        "id": "dr98V87ApApw",
        "outputId": "40046b95-6317-4027-c08b-f9ba64343933"
      },
      "execution_count": 17,
      "outputs": [
        {
          "output_type": "execute_result",
          "data": {
            "text/plain": [
              "(<tf.Tensor: shape=(3, 2), dtype=float32, numpy=\n",
              " array([[-0.7565803 , -0.06854702],\n",
              "        [ 0.07595026, -1.2573844 ],\n",
              "        [-0.23193763, -1.8107855 ]], dtype=float32)>,\n",
              " <tf.Tensor: shape=(3, 2), dtype=float32, numpy=\n",
              " array([[-0.7565803 , -0.06854702],\n",
              "        [ 0.07595026, -1.2573844 ],\n",
              "        [-0.23193763, -1.8107855 ]], dtype=float32)>,\n",
              " <tf.Tensor: shape=(3, 2), dtype=bool, numpy=\n",
              " array([[ True,  True],\n",
              "        [ True,  True],\n",
              "        [ True,  True]])>)"
            ]
          },
          "metadata": {},
          "execution_count": 17
        }
      ]
    },
    {
      "cell_type": "markdown",
      "source": [
        "### Shuffle the order of elements in a tensor"
      ],
      "metadata": {
        "id": "dvW6c43ortZM"
      }
    },
    {
      "cell_type": "code",
      "source": [
        "# Shuffle a tensor (valuable for when you want to shuffle your data so the inherent order doesn't effect learning)\n",
        "not_shuffled = tf.constant([[10, 7],\n",
        "                           [3, 4],\n",
        "                           [2, 5]])\n",
        "not_shuffled.ndim"
      ],
      "metadata": {
        "colab": {
          "base_uri": "https://localhost:8080/"
        },
        "id": "TmuAkr-Crv_V",
        "outputId": "dd463577-0ef9-4458-eb19-87cff75fc9b9"
      },
      "execution_count": 18,
      "outputs": [
        {
          "output_type": "execute_result",
          "data": {
            "text/plain": [
              "2"
            ]
          },
          "metadata": {},
          "execution_count": 18
        }
      ]
    },
    {
      "cell_type": "code",
      "source": [
        "not_shuffled"
      ],
      "metadata": {
        "colab": {
          "base_uri": "https://localhost:8080/"
        },
        "id": "vJS_KoFqwvL2",
        "outputId": "537efde7-6cab-451d-f914-6892f1097f09"
      },
      "execution_count": 19,
      "outputs": [
        {
          "output_type": "execute_result",
          "data": {
            "text/plain": [
              "<tf.Tensor: shape=(3, 2), dtype=int32, numpy=\n",
              "array([[10,  7],\n",
              "       [ 3,  4],\n",
              "       [ 2,  5]], dtype=int32)>"
            ]
          },
          "metadata": {},
          "execution_count": 19
        }
      ]
    },
    {
      "cell_type": "code",
      "source": [
        "# Shuffle our non-shuffled tensor\n",
        "tf.random.shuffle(not_shuffled)"
      ],
      "metadata": {
        "colab": {
          "base_uri": "https://localhost:8080/"
        },
        "id": "U147TMeKw-Mo",
        "outputId": "3794e5f6-95de-4b18-b730-cfe362a62bde"
      },
      "execution_count": 20,
      "outputs": [
        {
          "output_type": "execute_result",
          "data": {
            "text/plain": [
              "<tf.Tensor: shape=(3, 2), dtype=int32, numpy=\n",
              "array([[ 2,  5],\n",
              "       [10,  7],\n",
              "       [ 3,  4]], dtype=int32)>"
            ]
          },
          "metadata": {},
          "execution_count": 20
        }
      ]
    },
    {
      "cell_type": "code",
      "source": [
        "# Setting random seeds in order\n",
        "\n",
        "tf.random.set_seed(41) # global level random seed\n",
        "tf.random.shuffle(not_shuffled, seed=41) # operation level random seed"
      ],
      "metadata": {
        "colab": {
          "base_uri": "https://localhost:8080/"
        },
        "id": "OTKNv0491zEO",
        "outputId": "0f034ccf-a6e5-4ef8-ae83-6d449ae3ec12"
      },
      "execution_count": 21,
      "outputs": [
        {
          "output_type": "execute_result",
          "data": {
            "text/plain": [
              "<tf.Tensor: shape=(3, 2), dtype=int32, numpy=\n",
              "array([[10,  7],\n",
              "       [ 3,  4],\n",
              "       [ 2,  5]], dtype=int32)>"
            ]
          },
          "metadata": {},
          "execution_count": 21
        }
      ]
    },
    {
      "cell_type": "markdown",
      "source": [
        "### Other ways to make tensors"
      ],
      "metadata": {
        "id": "MmuDXBnt3uzr"
      }
    },
    {
      "cell_type": "code",
      "source": [
        "# Create a tensor of all ones\n",
        "tf.ones([10, 7])  "
      ],
      "metadata": {
        "colab": {
          "base_uri": "https://localhost:8080/"
        },
        "id": "Y_mxlmKN3q62",
        "outputId": "af394c97-ee1e-44e4-8f69-0e3de60d9158"
      },
      "execution_count": 22,
      "outputs": [
        {
          "output_type": "execute_result",
          "data": {
            "text/plain": [
              "<tf.Tensor: shape=(10, 7), dtype=float32, numpy=\n",
              "array([[1., 1., 1., 1., 1., 1., 1.],\n",
              "       [1., 1., 1., 1., 1., 1., 1.],\n",
              "       [1., 1., 1., 1., 1., 1., 1.],\n",
              "       [1., 1., 1., 1., 1., 1., 1.],\n",
              "       [1., 1., 1., 1., 1., 1., 1.],\n",
              "       [1., 1., 1., 1., 1., 1., 1.],\n",
              "       [1., 1., 1., 1., 1., 1., 1.],\n",
              "       [1., 1., 1., 1., 1., 1., 1.],\n",
              "       [1., 1., 1., 1., 1., 1., 1.],\n",
              "       [1., 1., 1., 1., 1., 1., 1.]], dtype=float32)>"
            ]
          },
          "metadata": {},
          "execution_count": 22
        }
      ]
    },
    {
      "cell_type": "code",
      "source": [
        "# Create a tensor of all zeroes\n",
        "tf.zeros(shape=(3, 4))"
      ],
      "metadata": {
        "colab": {
          "base_uri": "https://localhost:8080/"
        },
        "id": "M8N6lzkC3816",
        "outputId": "b282daba-f58a-4f3d-e0d2-2839264ce976"
      },
      "execution_count": 23,
      "outputs": [
        {
          "output_type": "execute_result",
          "data": {
            "text/plain": [
              "<tf.Tensor: shape=(3, 4), dtype=float32, numpy=\n",
              "array([[0., 0., 0., 0.],\n",
              "       [0., 0., 0., 0.],\n",
              "       [0., 0., 0., 0.]], dtype=float32)>"
            ]
          },
          "metadata": {},
          "execution_count": 23
        }
      ]
    },
    {
      "cell_type": "markdown",
      "source": [
        "### Turn NumPy arrays into tensors\n",
        "\n",
        "Main difference between NumPy arrays and TensorFlow is that tensors can be run on a GPU (much faster for numerical computing). "
      ],
      "metadata": {
        "id": "yk-z5uO94Ob0"
      }
    },
    {
      "cell_type": "code",
      "source": [
        "# Turn NumPy arrays into tensors\n",
        "import numpy as np\n",
        "numpy_A = np.arange(1, 25, dtype=np.int32) # create a NumPy array between 1 and 24\n",
        "numpy_A\n",
        "\n",
        "# X = tf.constant(some_matrix) # capital for matrix or tensor\n",
        "# y = tf.constant(vector) # non-capital for vector"
      ],
      "metadata": {
        "colab": {
          "base_uri": "https://localhost:8080/"
        },
        "id": "G7Iepway4F2Z",
        "outputId": "dfd80bad-2ab0-436d-8e31-7b2a8d8982f0"
      },
      "execution_count": 24,
      "outputs": [
        {
          "output_type": "execute_result",
          "data": {
            "text/plain": [
              "array([ 1,  2,  3,  4,  5,  6,  7,  8,  9, 10, 11, 12, 13, 14, 15, 16, 17,\n",
              "       18, 19, 20, 21, 22, 23, 24], dtype=int32)"
            ]
          },
          "metadata": {},
          "execution_count": 24
        }
      ]
    },
    {
      "cell_type": "code",
      "source": [
        "A = tf.constant(numpy_A)\n",
        "A"
      ],
      "metadata": {
        "colab": {
          "base_uri": "https://localhost:8080/"
        },
        "id": "n7sLV6X-5KVt",
        "outputId": "8ebe844b-bda4-42dc-ff3e-2e37a3c7a57d"
      },
      "execution_count": 25,
      "outputs": [
        {
          "output_type": "execute_result",
          "data": {
            "text/plain": [
              "<tf.Tensor: shape=(24,), dtype=int32, numpy=\n",
              "array([ 1,  2,  3,  4,  5,  6,  7,  8,  9, 10, 11, 12, 13, 14, 15, 16, 17,\n",
              "       18, 19, 20, 21, 22, 23, 24], dtype=int32)>"
            ]
          },
          "metadata": {},
          "execution_count": 25
        }
      ]
    },
    {
      "cell_type": "code",
      "source": [
        "# Change to 3-dimensional\n",
        "A = tf.constant(numpy_A, shape=(2, 3, 4)) # 2 x 3 x 4 = 24\n",
        "A"
      ],
      "metadata": {
        "colab": {
          "base_uri": "https://localhost:8080/"
        },
        "id": "3PVJlfrN5Wer",
        "outputId": "ded7b1c8-e06e-490f-f250-ffd9f7758120"
      },
      "execution_count": 26,
      "outputs": [
        {
          "output_type": "execute_result",
          "data": {
            "text/plain": [
              "<tf.Tensor: shape=(2, 3, 4), dtype=int32, numpy=\n",
              "array([[[ 1,  2,  3,  4],\n",
              "        [ 5,  6,  7,  8],\n",
              "        [ 9, 10, 11, 12]],\n",
              "\n",
              "       [[13, 14, 15, 16],\n",
              "        [17, 18, 19, 20],\n",
              "        [21, 22, 23, 24]]], dtype=int32)>"
            ]
          },
          "metadata": {},
          "execution_count": 26
        }
      ]
    },
    {
      "cell_type": "code",
      "source": [
        "# Alternate shape\n",
        "A = tf.constant(numpy_A, shape=(3, 8)) # 3 x 8 = 24\n",
        "B = tf.constant(numpy_A)\n",
        "A, B"
      ],
      "metadata": {
        "colab": {
          "base_uri": "https://localhost:8080/"
        },
        "id": "h_xhhXi66WJI",
        "outputId": "d4396396-6a3f-44da-b4e1-09835acd7ad0"
      },
      "execution_count": 27,
      "outputs": [
        {
          "output_type": "execute_result",
          "data": {
            "text/plain": [
              "(<tf.Tensor: shape=(3, 8), dtype=int32, numpy=\n",
              " array([[ 1,  2,  3,  4,  5,  6,  7,  8],\n",
              "        [ 9, 10, 11, 12, 13, 14, 15, 16],\n",
              "        [17, 18, 19, 20, 21, 22, 23, 24]], dtype=int32)>,\n",
              " <tf.Tensor: shape=(24,), dtype=int32, numpy=\n",
              " array([ 1,  2,  3,  4,  5,  6,  7,  8,  9, 10, 11, 12, 13, 14, 15, 16, 17,\n",
              "        18, 19, 20, 21, 22, 23, 24], dtype=int32)>)"
            ]
          },
          "metadata": {},
          "execution_count": 27
        }
      ]
    },
    {
      "cell_type": "markdown",
      "source": [
        "# Getting information from tensors\n",
        "\n",
        "When dealing with tensors you probably want to be aware of the following attributes:\n",
        "* Shape\n",
        "* Rank\n",
        "* Axis or dimension\n",
        "* Size"
      ],
      "metadata": {
        "id": "cc-CJC0V7Anx"
      }
    },
    {
      "cell_type": "code",
      "source": [
        "# Create a rank 4 tensor (4 dimensions)\n",
        "rank_4_tensor = tf.zeros(shape=[2, 3, 4, 5])\n",
        "rank_4_tensor"
      ],
      "metadata": {
        "colab": {
          "base_uri": "https://localhost:8080/"
        },
        "id": "pnVC6j2K7DUP",
        "outputId": "f9da46f3-6d53-4c51-8025-b0a320307875"
      },
      "execution_count": 28,
      "outputs": [
        {
          "output_type": "execute_result",
          "data": {
            "text/plain": [
              "<tf.Tensor: shape=(2, 3, 4, 5), dtype=float32, numpy=\n",
              "array([[[[0., 0., 0., 0., 0.],\n",
              "         [0., 0., 0., 0., 0.],\n",
              "         [0., 0., 0., 0., 0.],\n",
              "         [0., 0., 0., 0., 0.]],\n",
              "\n",
              "        [[0., 0., 0., 0., 0.],\n",
              "         [0., 0., 0., 0., 0.],\n",
              "         [0., 0., 0., 0., 0.],\n",
              "         [0., 0., 0., 0., 0.]],\n",
              "\n",
              "        [[0., 0., 0., 0., 0.],\n",
              "         [0., 0., 0., 0., 0.],\n",
              "         [0., 0., 0., 0., 0.],\n",
              "         [0., 0., 0., 0., 0.]]],\n",
              "\n",
              "\n",
              "       [[[0., 0., 0., 0., 0.],\n",
              "         [0., 0., 0., 0., 0.],\n",
              "         [0., 0., 0., 0., 0.],\n",
              "         [0., 0., 0., 0., 0.]],\n",
              "\n",
              "        [[0., 0., 0., 0., 0.],\n",
              "         [0., 0., 0., 0., 0.],\n",
              "         [0., 0., 0., 0., 0.],\n",
              "         [0., 0., 0., 0., 0.]],\n",
              "\n",
              "        [[0., 0., 0., 0., 0.],\n",
              "         [0., 0., 0., 0., 0.],\n",
              "         [0., 0., 0., 0., 0.],\n",
              "         [0., 0., 0., 0., 0.]]]], dtype=float32)>"
            ]
          },
          "metadata": {},
          "execution_count": 28
        }
      ]
    },
    {
      "cell_type": "code",
      "source": [
        "rank_4_tensor[0]"
      ],
      "metadata": {
        "colab": {
          "base_uri": "https://localhost:8080/"
        },
        "id": "QFdXU7rgJ4HM",
        "outputId": "84d05752-a75c-4596-a251-587bd5ebef92"
      },
      "execution_count": 29,
      "outputs": [
        {
          "output_type": "execute_result",
          "data": {
            "text/plain": [
              "<tf.Tensor: shape=(3, 4, 5), dtype=float32, numpy=\n",
              "array([[[0., 0., 0., 0., 0.],\n",
              "        [0., 0., 0., 0., 0.],\n",
              "        [0., 0., 0., 0., 0.],\n",
              "        [0., 0., 0., 0., 0.]],\n",
              "\n",
              "       [[0., 0., 0., 0., 0.],\n",
              "        [0., 0., 0., 0., 0.],\n",
              "        [0., 0., 0., 0., 0.],\n",
              "        [0., 0., 0., 0., 0.]],\n",
              "\n",
              "       [[0., 0., 0., 0., 0.],\n",
              "        [0., 0., 0., 0., 0.],\n",
              "        [0., 0., 0., 0., 0.],\n",
              "        [0., 0., 0., 0., 0.]]], dtype=float32)>"
            ]
          },
          "metadata": {},
          "execution_count": 29
        }
      ]
    },
    {
      "cell_type": "code",
      "source": [
        "rank_4_tensor.shape, rank_4_tensor.ndim, tf.size(rank_4_tensor)"
      ],
      "metadata": {
        "colab": {
          "base_uri": "https://localhost:8080/"
        },
        "id": "JHBTM46BKDla",
        "outputId": "296b90fb-56de-4493-8e56-22392a321d1f"
      },
      "execution_count": 31,
      "outputs": [
        {
          "output_type": "execute_result",
          "data": {
            "text/plain": [
              "(TensorShape([2, 3, 4, 5]), 4, <tf.Tensor: shape=(), dtype=int32, numpy=120>)"
            ]
          },
          "metadata": {},
          "execution_count": 31
        }
      ]
    },
    {
      "cell_type": "code",
      "source": [
        "2*3*4*5"
      ],
      "metadata": {
        "colab": {
          "base_uri": "https://localhost:8080/"
        },
        "id": "5bXtAprFKU_n",
        "outputId": "49b7dee9-3fc5-49e0-c6c4-955488f91939"
      },
      "execution_count": 32,
      "outputs": [
        {
          "output_type": "execute_result",
          "data": {
            "text/plain": [
              "120"
            ]
          },
          "metadata": {},
          "execution_count": 32
        }
      ]
    },
    {
      "cell_type": "code",
      "source": [
        "# Get various attributes of our tensor\n",
        "print(\"Datatype of every element:\", rank_4_tensor.dtype)\n",
        "print(\"Number of dimensions (rank):\", rank_4_tensor.ndim)\n",
        "print(\"Shape of tensor:\", rank_4_tensor.shape)\n",
        "print(\"Elements along the 0 axis:\", rank_4_tensor.shape[0])\n",
        "print(\"Elements along the last axis:\", rank_4_tensor.shape[-1])\n",
        "print(\"Total number of elements in our tensor:\", tf.size(rank_4_tensor))\n",
        "print(\"Total number of elements in our tensor:\", tf.size(rank_4_tensor).numpy())"
      ],
      "metadata": {
        "colab": {
          "base_uri": "https://localhost:8080/"
        },
        "id": "dNpwRWfZKbP-",
        "outputId": "f3ec6b81-9060-4e93-d59f-3322d423e993"
      },
      "execution_count": 33,
      "outputs": [
        {
          "output_type": "stream",
          "name": "stdout",
          "text": [
            "Datatype of every element: <dtype: 'float32'>\n",
            "Number of dimensions (rank): 4\n",
            "Shape of tensor: (2, 3, 4, 5)\n",
            "Elements along the 0 axis: 2\n",
            "Elements along the last axis: 5\n",
            "Total number of elements in our tensor: tf.Tensor(120, shape=(), dtype=int32)\n",
            "Total number of elements in our tensor: 120\n"
          ]
        }
      ]
    },
    {
      "cell_type": "markdown",
      "source": [
        "### Indexing tensors\n",
        "\n",
        "Tensors can be indexed just like Python lists."
      ],
      "metadata": {
        "id": "R2kxso-AMAsm"
      }
    },
    {
      "cell_type": "code",
      "source": [
        "# Pyton list\n",
        "some_list = [1, 2, 3, 4]\n",
        "some_list[:2]"
      ],
      "metadata": {
        "colab": {
          "base_uri": "https://localhost:8080/"
        },
        "id": "zhjDJ7ucMVwx",
        "outputId": "2df1c827-4fce-4971-a3b0-232c51c74e2f"
      },
      "execution_count": 30,
      "outputs": [
        {
          "output_type": "execute_result",
          "data": {
            "text/plain": [
              "[1, 2]"
            ]
          },
          "metadata": {},
          "execution_count": 30
        }
      ]
    },
    {
      "cell_type": "code",
      "source": [
        "# Get the first 2 dimensions of each dimension\n",
        "rank_4_tensor[:2, :2, :2, :2]"
      ],
      "metadata": {
        "colab": {
          "base_uri": "https://localhost:8080/"
        },
        "id": "ZIEPHgRqLzHx",
        "outputId": "84380086-ef81-4f5d-8e25-b64092ae1369"
      },
      "execution_count": 34,
      "outputs": [
        {
          "output_type": "execute_result",
          "data": {
            "text/plain": [
              "<tf.Tensor: shape=(2, 2, 2, 2), dtype=float32, numpy=\n",
              "array([[[[0., 0.],\n",
              "         [0., 0.]],\n",
              "\n",
              "        [[0., 0.],\n",
              "         [0., 0.]]],\n",
              "\n",
              "\n",
              "       [[[0., 0.],\n",
              "         [0., 0.]],\n",
              "\n",
              "        [[0., 0.],\n",
              "         [0., 0.]]]], dtype=float32)>"
            ]
          },
          "metadata": {},
          "execution_count": 34
        }
      ]
    },
    {
      "cell_type": "code",
      "source": [
        "some_list[:1]"
      ],
      "metadata": {
        "colab": {
          "base_uri": "https://localhost:8080/"
        },
        "id": "h74BC-pNM8t8",
        "outputId": "0ac6186e-de78-4cf5-9879-6af2f35cd859"
      },
      "execution_count": 35,
      "outputs": [
        {
          "output_type": "execute_result",
          "data": {
            "text/plain": [
              "[1]"
            ]
          },
          "metadata": {},
          "execution_count": 35
        }
      ]
    },
    {
      "cell_type": "code",
      "source": [
        "rank_4_tensor.shape"
      ],
      "metadata": {
        "colab": {
          "base_uri": "https://localhost:8080/"
        },
        "id": "ukkrUeIvVU3q",
        "outputId": "b619613c-f8b0-4501-b700-d7cb2ee8b0c2"
      },
      "execution_count": 36,
      "outputs": [
        {
          "output_type": "execute_result",
          "data": {
            "text/plain": [
              "TensorShape([2, 3, 4, 5])"
            ]
          },
          "metadata": {},
          "execution_count": 36
        }
      ]
    },
    {
      "cell_type": "code",
      "source": [
        "# Get the first element from each dimension from each index except the final one\n",
        "rank_4_tensor[:1, :1, :1, :]"
      ],
      "metadata": {
        "colab": {
          "base_uri": "https://localhost:8080/"
        },
        "id": "fq_lDuLIMt-9",
        "outputId": "99b34b1f-73f8-407d-ccab-5c92ea192fd4"
      },
      "execution_count": 37,
      "outputs": [
        {
          "output_type": "execute_result",
          "data": {
            "text/plain": [
              "<tf.Tensor: shape=(1, 1, 1, 5), dtype=float32, numpy=array([[[[0., 0., 0., 0., 0.]]]], dtype=float32)>"
            ]
          },
          "metadata": {},
          "execution_count": 37
        }
      ]
    },
    {
      "cell_type": "code",
      "source": [
        "# Create a rank 2 tensor (2 dimensions)\n",
        "rank_2_tensor = tf.constant([[10, 7],\n",
        "                            [3, 4]])\n",
        "rank_2_tensor.shape, rank_2_tensor.ndim"
      ],
      "metadata": {
        "colab": {
          "base_uri": "https://localhost:8080/"
        },
        "id": "7EOhVDonVdub",
        "outputId": "08fe9757-c5fc-4a9e-97e2-2caf1bbeadfd"
      },
      "execution_count": 38,
      "outputs": [
        {
          "output_type": "execute_result",
          "data": {
            "text/plain": [
              "(TensorShape([2, 2]), 2)"
            ]
          },
          "metadata": {},
          "execution_count": 38
        }
      ]
    },
    {
      "cell_type": "code",
      "source": [
        "rank_2_tensor"
      ],
      "metadata": {
        "colab": {
          "base_uri": "https://localhost:8080/"
        },
        "id": "uBMib_vGWKuj",
        "outputId": "bd2bb4ea-44d2-4f97-bcc7-3f3aa22ef35d"
      },
      "execution_count": 39,
      "outputs": [
        {
          "output_type": "execute_result",
          "data": {
            "text/plain": [
              "<tf.Tensor: shape=(2, 2), dtype=int32, numpy=\n",
              "array([[10,  7],\n",
              "       [ 3,  4]], dtype=int32)>"
            ]
          },
          "metadata": {},
          "execution_count": 39
        }
      ]
    },
    {
      "cell_type": "code",
      "source": [
        "some_list, some_list[-1]"
      ],
      "metadata": {
        "colab": {
          "base_uri": "https://localhost:8080/"
        },
        "id": "p8uOXUedWWvq",
        "outputId": "5de6f3d4-d6f8-4455-803f-36a416536f92"
      },
      "execution_count": 40,
      "outputs": [
        {
          "output_type": "execute_result",
          "data": {
            "text/plain": [
              "([1, 2, 3, 4], 4)"
            ]
          },
          "metadata": {},
          "execution_count": 40
        }
      ]
    },
    {
      "cell_type": "code",
      "source": [
        "# Get the last item of each of our rank 2 tensor\n",
        "rank_2_tensor[:, -1]"
      ],
      "metadata": {
        "colab": {
          "base_uri": "https://localhost:8080/"
        },
        "id": "zEMtjSszWCg0",
        "outputId": "72885e49-89eb-4181-a023-fe137c437312"
      },
      "execution_count": 41,
      "outputs": [
        {
          "output_type": "execute_result",
          "data": {
            "text/plain": [
              "<tf.Tensor: shape=(2,), dtype=int32, numpy=array([7, 4], dtype=int32)>"
            ]
          },
          "metadata": {},
          "execution_count": 41
        }
      ]
    },
    {
      "cell_type": "code",
      "source": [
        "# Add in extra dimension to our rank 2 tensor\n",
        "rank_3_tensor = rank_2_tensor[..., tf.newaxis]\n",
        "rank_3_tensor "
      ],
      "metadata": {
        "colab": {
          "base_uri": "https://localhost:8080/"
        },
        "id": "8naY14l5Wj05",
        "outputId": "8360c419-4e67-490c-8135-1ad5d809d7ad"
      },
      "execution_count": 42,
      "outputs": [
        {
          "output_type": "execute_result",
          "data": {
            "text/plain": [
              "<tf.Tensor: shape=(2, 2, 1), dtype=int32, numpy=\n",
              "array([[[10],\n",
              "        [ 7]],\n",
              "\n",
              "       [[ 3],\n",
              "        [ 4]]], dtype=int32)>"
            ]
          },
          "metadata": {},
          "execution_count": 42
        }
      ]
    },
    {
      "cell_type": "code",
      "source": [
        "# Alternative to tf.newaxis\n",
        "tf.expand_dims(rank_2_tensor, axis=-1) # \"-1\" means expand the final axis"
      ],
      "metadata": {
        "colab": {
          "base_uri": "https://localhost:8080/"
        },
        "id": "neoCvEQ8XNve",
        "outputId": "c68d034f-295d-41cc-dde7-5606b71c7a7f"
      },
      "execution_count": 43,
      "outputs": [
        {
          "output_type": "execute_result",
          "data": {
            "text/plain": [
              "<tf.Tensor: shape=(2, 2, 1), dtype=int32, numpy=\n",
              "array([[[10],\n",
              "        [ 7]],\n",
              "\n",
              "       [[ 3],\n",
              "        [ 4]]], dtype=int32)>"
            ]
          },
          "metadata": {},
          "execution_count": 43
        }
      ]
    },
    {
      "cell_type": "code",
      "source": [
        "# Expand the 0-axis\n",
        "tf.expand_dims(rank_2_tensor, axis=0) # expand the 0-axis"
      ],
      "metadata": {
        "colab": {
          "base_uri": "https://localhost:8080/"
        },
        "id": "RM_VznzhXnAP",
        "outputId": "80fae72e-6b43-4d4b-cef0-0d86ccc246f5"
      },
      "execution_count": 44,
      "outputs": [
        {
          "output_type": "execute_result",
          "data": {
            "text/plain": [
              "<tf.Tensor: shape=(1, 2, 2), dtype=int32, numpy=\n",
              "array([[[10,  7],\n",
              "        [ 3,  4]]], dtype=int32)>"
            ]
          },
          "metadata": {},
          "execution_count": 44
        }
      ]
    },
    {
      "cell_type": "markdown",
      "source": [
        "### Manipulating tensors (tensor operations)\n",
        "\n",
        "**Basic operations**\n",
        "\n",
        "`+`,`-`,`*`,`/`"
      ],
      "metadata": {
        "id": "PwT7QnJwYAv_"
      }
    },
    {
      "cell_type": "code",
      "source": [
        "# You can add values to a tensor using the addition operator\n",
        "tensor = tf.constant([[10, 7], [3, 4]])\n",
        "tensor + 10"
      ],
      "metadata": {
        "id": "Pa3acGtrX7WA",
        "colab": {
          "base_uri": "https://localhost:8080/"
        },
        "outputId": "7b897d3d-e724-4e09-d7f3-97d80b927d3a"
      },
      "execution_count": 45,
      "outputs": [
        {
          "output_type": "execute_result",
          "data": {
            "text/plain": [
              "<tf.Tensor: shape=(2, 2), dtype=int32, numpy=\n",
              "array([[20, 17],\n",
              "       [13, 14]], dtype=int32)>"
            ]
          },
          "metadata": {},
          "execution_count": 45
        }
      ]
    },
    {
      "cell_type": "code",
      "source": [
        "# Original tensor is unchanged\n",
        "tensor"
      ],
      "metadata": {
        "colab": {
          "base_uri": "https://localhost:8080/"
        },
        "id": "75yQicfxa0X5",
        "outputId": "a5df6aa0-a282-4807-c256-137bf18f9535"
      },
      "execution_count": 46,
      "outputs": [
        {
          "output_type": "execute_result",
          "data": {
            "text/plain": [
              "<tf.Tensor: shape=(2, 2), dtype=int32, numpy=\n",
              "array([[10,  7],\n",
              "       [ 3,  4]], dtype=int32)>"
            ]
          },
          "metadata": {},
          "execution_count": 46
        }
      ]
    },
    {
      "cell_type": "code",
      "source": [
        "# Multiplication \n",
        "tensor * 10"
      ],
      "metadata": {
        "colab": {
          "base_uri": "https://localhost:8080/"
        },
        "id": "AMBQMCADa56o",
        "outputId": "2a01d5e5-e384-46a0-ecbe-f74ce96d7cad"
      },
      "execution_count": 47,
      "outputs": [
        {
          "output_type": "execute_result",
          "data": {
            "text/plain": [
              "<tf.Tensor: shape=(2, 2), dtype=int32, numpy=\n",
              "array([[100,  70],\n",
              "       [ 30,  40]], dtype=int32)>"
            ]
          },
          "metadata": {},
          "execution_count": 47
        }
      ]
    },
    {
      "cell_type": "code",
      "source": [
        "# Subrtaction\n",
        "tensor - 10"
      ],
      "metadata": {
        "colab": {
          "base_uri": "https://localhost:8080/"
        },
        "id": "T26OBQKNbGzu",
        "outputId": "53cabfd8-84bd-41fc-de7d-b424bd8970ff"
      },
      "execution_count": 48,
      "outputs": [
        {
          "output_type": "execute_result",
          "data": {
            "text/plain": [
              "<tf.Tensor: shape=(2, 2), dtype=int32, numpy=\n",
              "array([[ 0, -3],\n",
              "       [-7, -6]], dtype=int32)>"
            ]
          },
          "metadata": {},
          "execution_count": 48
        }
      ]
    },
    {
      "cell_type": "code",
      "source": [
        "# Division\n",
        "tensor / 10"
      ],
      "metadata": {
        "colab": {
          "base_uri": "https://localhost:8080/"
        },
        "id": "HObSjVH7bKFK",
        "outputId": "cdc66ffa-9479-4fd1-e32d-2102004234a7"
      },
      "execution_count": 49,
      "outputs": [
        {
          "output_type": "execute_result",
          "data": {
            "text/plain": [
              "<tf.Tensor: shape=(2, 2), dtype=float64, numpy=\n",
              "array([[1. , 0.7],\n",
              "       [0.3, 0.4]])>"
            ]
          },
          "metadata": {},
          "execution_count": 49
        }
      ]
    },
    {
      "cell_type": "code",
      "source": [
        "# We can use the tensorflow built-in function as well\n",
        "tf.multiply(tensor, 10) # Usually the faster way to manipulate"
      ],
      "metadata": {
        "colab": {
          "base_uri": "https://localhost:8080/"
        },
        "id": "BW6F47OkbO7J",
        "outputId": "ddd60e71-a06c-4ff4-db09-92d3b88f0146"
      },
      "execution_count": 50,
      "outputs": [
        {
          "output_type": "execute_result",
          "data": {
            "text/plain": [
              "<tf.Tensor: shape=(2, 2), dtype=int32, numpy=\n",
              "array([[100,  70],\n",
              "       [ 30,  40]], dtype=int32)>"
            ]
          },
          "metadata": {},
          "execution_count": 50
        }
      ]
    },
    {
      "cell_type": "code",
      "source": [
        "# Original tensor still unchanged\n",
        "tensor"
      ],
      "metadata": {
        "colab": {
          "base_uri": "https://localhost:8080/"
        },
        "id": "BuG3sHTHbmqr",
        "outputId": "ab73198d-608e-40d1-aa6c-ca6b3af32b22"
      },
      "execution_count": 51,
      "outputs": [
        {
          "output_type": "execute_result",
          "data": {
            "text/plain": [
              "<tf.Tensor: shape=(2, 2), dtype=int32, numpy=\n",
              "array([[10,  7],\n",
              "       [ 3,  4]], dtype=int32)>"
            ]
          },
          "metadata": {},
          "execution_count": 51
        }
      ]
    },
    {
      "cell_type": "markdown",
      "source": [
        "##Matrix multiplication##\n",
        "\n",
        "###In machine learning, matrix multiplication is one of the most common operations.\n",
        "\n",
        "There are two rules our tensors (or matrices) need to fulfill if we're going to matrix multiply them:\n",
        "\n",
        "1. The inner dimensions must match\n",
        "2. The resulting matrix has the shape of the inner dimensions"
      ],
      "metadata": {
        "id": "YWjLUM_ibvjI"
      }
    },
    {
      "cell_type": "code",
      "source": [
        "# Matrix multiplication in tensorflow\n",
        "print(tensor)\n",
        "tf.matmul(tensor, tensor)"
      ],
      "metadata": {
        "colab": {
          "base_uri": "https://localhost:8080/"
        },
        "id": "Z9a8GeUgbz1P",
        "outputId": "4368d06b-6cfd-4778-a684-572fcad2dba9"
      },
      "execution_count": 52,
      "outputs": [
        {
          "output_type": "stream",
          "name": "stdout",
          "text": [
            "tf.Tensor(\n",
            "[[10  7]\n",
            " [ 3  4]], shape=(2, 2), dtype=int32)\n"
          ]
        },
        {
          "output_type": "execute_result",
          "data": {
            "text/plain": [
              "<tf.Tensor: shape=(2, 2), dtype=int32, numpy=\n",
              "array([[121,  98],\n",
              "       [ 42,  37]], dtype=int32)>"
            ]
          },
          "metadata": {},
          "execution_count": 52
        }
      ]
    },
    {
      "cell_type": "code",
      "source": [
        "# Matrix multiplication with Python operator \"@\"\n",
        "tensor @ tensor"
      ],
      "metadata": {
        "colab": {
          "base_uri": "https://localhost:8080/"
        },
        "id": "XzZrkf-ei7CK",
        "outputId": "a910713b-ebb7-465b-a3e7-4b93d52be882"
      },
      "execution_count": 53,
      "outputs": [
        {
          "output_type": "execute_result",
          "data": {
            "text/plain": [
              "<tf.Tensor: shape=(2, 2), dtype=int32, numpy=\n",
              "array([[121,  98],\n",
              "       [ 42,  37]], dtype=int32)>"
            ]
          },
          "metadata": {},
          "execution_count": 53
        }
      ]
    },
    {
      "cell_type": "code",
      "source": [
        "tensor.shape"
      ],
      "metadata": {
        "colab": {
          "base_uri": "https://localhost:8080/"
        },
        "id": "82iMoR2SjUcP",
        "outputId": "140e52e0-7d3c-4d72-92eb-f7b401d45bfc"
      },
      "execution_count": 54,
      "outputs": [
        {
          "output_type": "execute_result",
          "data": {
            "text/plain": [
              "TensorShape([2, 2])"
            ]
          },
          "metadata": {},
          "execution_count": 54
        }
      ]
    },
    {
      "cell_type": "code",
      "source": [
        "# Create a tensor (3,2) tensor\n",
        "X = tf.constant([[1, 2],\n",
        "                [3, 4],\n",
        "                [5, 6]])\n",
        "\n",
        "# Create another (3,2) tensor\n",
        "Y = tf.constant([[7, 8],\n",
        "                 [9, 10],\n",
        "                 [11, 12]])\n",
        "\n",
        "X, Y"
      ],
      "metadata": {
        "colab": {
          "base_uri": "https://localhost:8080/"
        },
        "id": "rsvJclvZjZPa",
        "outputId": "af786a84-b1e9-4888-d6fc-8a2bb2c339c2"
      },
      "execution_count": 55,
      "outputs": [
        {
          "output_type": "execute_result",
          "data": {
            "text/plain": [
              "(<tf.Tensor: shape=(3, 2), dtype=int32, numpy=\n",
              " array([[1, 2],\n",
              "        [3, 4],\n",
              "        [5, 6]], dtype=int32)>, <tf.Tensor: shape=(3, 2), dtype=int32, numpy=\n",
              " array([[ 7,  8],\n",
              "        [ 9, 10],\n",
              "        [11, 12]], dtype=int32)>)"
            ]
          },
          "metadata": {},
          "execution_count": 55
        }
      ]
    },
    {
      "cell_type": "markdown",
      "source": [
        "**Resource:** Info and example of matrix multiplication: https://mathsisfun.com/algebra/matrix-multiplying.html"
      ],
      "metadata": {
        "id": "CwXq_kwDkzIs"
      }
    },
    {
      "cell_type": "code",
      "source": [
        "Y"
      ],
      "metadata": {
        "colab": {
          "base_uri": "https://localhost:8080/"
        },
        "id": "Xcmn2K4iuJaR",
        "outputId": "35934367-0e13-4317-da62-7657f9fb2028"
      },
      "execution_count": 59,
      "outputs": [
        {
          "output_type": "execute_result",
          "data": {
            "text/plain": [
              "<tf.Tensor: shape=(3, 2), dtype=int32, numpy=\n",
              "array([[ 7,  8],\n",
              "       [ 9, 10],\n",
              "       [11, 12]], dtype=int32)>"
            ]
          },
          "metadata": {},
          "execution_count": 59
        }
      ]
    },
    {
      "cell_type": "code",
      "source": [
        "# Let's change the shape of Y\n",
        "tf.reshape(Y, shape=(2, 3))"
      ],
      "metadata": {
        "colab": {
          "base_uri": "https://localhost:8080/"
        },
        "id": "YEvqXjKFk0bJ",
        "outputId": "1dcbb143-47f1-445c-8132-9de3057d070d"
      },
      "execution_count": 58,
      "outputs": [
        {
          "output_type": "execute_result",
          "data": {
            "text/plain": [
              "<tf.Tensor: shape=(2, 3), dtype=int32, numpy=\n",
              "array([[ 7,  8,  9],\n",
              "       [10, 11, 12]], dtype=int32)>"
            ]
          },
          "metadata": {},
          "execution_count": 58
        }
      ]
    },
    {
      "cell_type": "code",
      "source": [
        "X.shape, tf.reshape(Y, shape=(2, 3)).shape"
      ],
      "metadata": {
        "colab": {
          "base_uri": "https://localhost:8080/"
        },
        "id": "_4YGtOUwue8o",
        "outputId": "9ed36ece-c0a4-4c8a-98e1-00a124996558"
      },
      "execution_count": 60,
      "outputs": [
        {
          "output_type": "execute_result",
          "data": {
            "text/plain": [
              "(TensorShape([3, 2]), TensorShape([2, 3]))"
            ]
          },
          "metadata": {},
          "execution_count": 60
        }
      ]
    },
    {
      "cell_type": "code",
      "source": [
        "# Try to matrix multiply X by reshaped Y\n",
        "X @ tf.reshape(Y, shape=(2, 3))"
      ],
      "metadata": {
        "colab": {
          "base_uri": "https://localhost:8080/"
        },
        "id": "VZXPyHThuMf3",
        "outputId": "f8956a92-ce46-42d8-8469-e1f7e3b8193d"
      },
      "execution_count": 61,
      "outputs": [
        {
          "output_type": "execute_result",
          "data": {
            "text/plain": [
              "<tf.Tensor: shape=(3, 3), dtype=int32, numpy=\n",
              "array([[ 27,  30,  33],\n",
              "       [ 61,  68,  75],\n",
              "       [ 95, 106, 117]], dtype=int32)>"
            ]
          },
          "metadata": {},
          "execution_count": 61
        }
      ]
    },
    {
      "cell_type": "code",
      "source": [
        "tf.matmul(X, tf.reshape(Y, shape=(2, 3)))"
      ],
      "metadata": {
        "colab": {
          "base_uri": "https://localhost:8080/"
        },
        "id": "NqSn_BWguyii",
        "outputId": "f48c8e6a-df07-4baa-8ee2-58a97efdffa6"
      },
      "execution_count": 62,
      "outputs": [
        {
          "output_type": "execute_result",
          "data": {
            "text/plain": [
              "<tf.Tensor: shape=(3, 3), dtype=int32, numpy=\n",
              "array([[ 27,  30,  33],\n",
              "       [ 61,  68,  75],\n",
              "       [ 95, 106, 117]], dtype=int32)>"
            ]
          },
          "metadata": {},
          "execution_count": 62
        }
      ]
    },
    {
      "cell_type": "code",
      "source": [
        "tf.reshape(X, shape=(2, 3)).shape, Y.shape"
      ],
      "metadata": {
        "colab": {
          "base_uri": "https://localhost:8080/"
        },
        "id": "o96gJnMyvXI2",
        "outputId": "44ab002f-ec4d-4d16-d634-1f32c9631709"
      },
      "execution_count": 64,
      "outputs": [
        {
          "output_type": "execute_result",
          "data": {
            "text/plain": [
              "(TensorShape([2, 3]), TensorShape([3, 2]))"
            ]
          },
          "metadata": {},
          "execution_count": 64
        }
      ]
    },
    {
      "cell_type": "code",
      "source": [
        "# Try change the shape of X instead of Y\n",
        "tf.matmul(tf.reshape(X, shape=(2, 3)), Y)"
      ],
      "metadata": {
        "colab": {
          "base_uri": "https://localhost:8080/"
        },
        "id": "OPJVXhLhvC1Z",
        "outputId": "53fe467c-b6da-4bd1-bdb3-4f71a8822f03"
      },
      "execution_count": 66,
      "outputs": [
        {
          "output_type": "execute_result",
          "data": {
            "text/plain": [
              "<tf.Tensor: shape=(2, 2), dtype=int32, numpy=\n",
              "array([[ 58,  64],\n",
              "       [139, 154]], dtype=int32)>"
            ]
          },
          "metadata": {},
          "execution_count": 66
        }
      ]
    },
    {
      "cell_type": "code",
      "source": [
        "# Can do the same with transpose\n",
        "X, tf.transpose(X), tf.reshape(X, shape=(2, 3))"
      ],
      "metadata": {
        "colab": {
          "base_uri": "https://localhost:8080/"
        },
        "id": "LdcbjJWXvv56",
        "outputId": "e720c954-5ac7-4445-c718-09b09d2e01d2"
      },
      "execution_count": 67,
      "outputs": [
        {
          "output_type": "execute_result",
          "data": {
            "text/plain": [
              "(<tf.Tensor: shape=(3, 2), dtype=int32, numpy=\n",
              " array([[1, 2],\n",
              "        [3, 4],\n",
              "        [5, 6]], dtype=int32)>, <tf.Tensor: shape=(2, 3), dtype=int32, numpy=\n",
              " array([[1, 3, 5],\n",
              "        [2, 4, 6]], dtype=int32)>, <tf.Tensor: shape=(2, 3), dtype=int32, numpy=\n",
              " array([[1, 2, 3],\n",
              "        [4, 5, 6]], dtype=int32)>)"
            ]
          },
          "metadata": {},
          "execution_count": 67
        }
      ]
    },
    {
      "cell_type": "code",
      "source": [
        "# Try matrix manipulation with transpose rather than reshape\n",
        "tf.matmul(tf.transpose(X), Y)"
      ],
      "metadata": {
        "colab": {
          "base_uri": "https://localhost:8080/"
        },
        "id": "bNCflSwVwhw5",
        "outputId": "e9d51152-260a-42e0-fe8b-73bae2e4a6bc"
      },
      "execution_count": 68,
      "outputs": [
        {
          "output_type": "execute_result",
          "data": {
            "text/plain": [
              "<tf.Tensor: shape=(2, 2), dtype=int32, numpy=\n",
              "array([[ 89,  98],\n",
              "       [116, 128]], dtype=int32)>"
            ]
          },
          "metadata": {},
          "execution_count": 68
        }
      ]
    },
    {
      "cell_type": "markdown",
      "source": [
        "**The dot product**\n",
        "\n",
        "Matrix multiplication is also referred to as the dot product.\n",
        "\n",
        "You can perform matrix multiplication using:\n",
        "* `tf.matmul()`\n",
        "* `tf.tensordot()`\n",
        "* `@`\n",
        "\n",
        "![dot.jfif](data:image/jpeg;base64,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)"
      ],
      "metadata": {
        "id": "m1cdh4RNsvZO"
      }
    },
    {
      "cell_type": "code",
      "source": [
        "X, Y"
      ],
      "metadata": {
        "colab": {
          "base_uri": "https://localhost:8080/"
        },
        "id": "SWnICF_2yB9p",
        "outputId": "d7a233d0-6cd0-4db5-aebe-c39e89db44a3"
      },
      "execution_count": 69,
      "outputs": [
        {
          "output_type": "execute_result",
          "data": {
            "text/plain": [
              "(<tf.Tensor: shape=(3, 2), dtype=int32, numpy=\n",
              " array([[1, 2],\n",
              "        [3, 4],\n",
              "        [5, 6]], dtype=int32)>, <tf.Tensor: shape=(3, 2), dtype=int32, numpy=\n",
              " array([[ 7,  8],\n",
              "        [ 9, 10],\n",
              "        [11, 12]], dtype=int32)>)"
            ]
          },
          "metadata": {},
          "execution_count": 69
        }
      ]
    },
    {
      "cell_type": "code",
      "source": [
        "# Perform the dot product on X and Y (requires X or Y to be transposed)\n",
        "tf.tensordot(tf.transpose(X), Y, axes=1)"
      ],
      "metadata": {
        "colab": {
          "base_uri": "https://localhost:8080/"
        },
        "id": "TJYUtpadxySo",
        "outputId": "f85d84a4-000d-4477-df64-555445ac2846"
      },
      "execution_count": 72,
      "outputs": [
        {
          "output_type": "execute_result",
          "data": {
            "text/plain": [
              "<tf.Tensor: shape=(2, 2), dtype=int32, numpy=\n",
              "array([[ 89,  98],\n",
              "       [116, 128]], dtype=int32)>"
            ]
          },
          "metadata": {},
          "execution_count": 72
        }
      ]
    },
    {
      "cell_type": "code",
      "source": [
        "# Perform matrix multiplication between X and Y (transposed\n",
        "tf.matmul(X, tf.transpose(Y))"
      ],
      "metadata": {
        "colab": {
          "base_uri": "https://localhost:8080/"
        },
        "id": "Hnr7wr0nySq4",
        "outputId": "42f61645-ecca-4460-83a3-b86a023dc4bd"
      },
      "execution_count": 73,
      "outputs": [
        {
          "output_type": "execute_result",
          "data": {
            "text/plain": [
              "<tf.Tensor: shape=(3, 3), dtype=int32, numpy=\n",
              "array([[ 23,  29,  35],\n",
              "       [ 53,  67,  81],\n",
              "       [ 83, 105, 127]], dtype=int32)>"
            ]
          },
          "metadata": {},
          "execution_count": 73
        }
      ]
    },
    {
      "cell_type": "code",
      "source": [
        "# Perform matrix multiplication between X and Y (reshape)\n",
        "tf.matmul(X, tf.reshape(Y, shape=(2, 3)))"
      ],
      "metadata": {
        "colab": {
          "base_uri": "https://localhost:8080/"
        },
        "id": "Nd0IS3j-ygiL",
        "outputId": "671cd1fd-d437-4ac6-989f-d80be3cf185c"
      },
      "execution_count": 74,
      "outputs": [
        {
          "output_type": "execute_result",
          "data": {
            "text/plain": [
              "<tf.Tensor: shape=(3, 3), dtype=int32, numpy=\n",
              "array([[ 27,  30,  33],\n",
              "       [ 61,  68,  75],\n",
              "       [ 95, 106, 117]], dtype=int32)>"
            ]
          },
          "metadata": {},
          "execution_count": 74
        }
      ]
    },
    {
      "cell_type": "code",
      "source": [
        "# CHeck the values of Y, reshape Y and transposed Y\n",
        "print(\"Normal Y:\")\n",
        "print(Y, \"\\n\")\n",
        "\n",
        "print(\"Y reshaped to (2, 3):\")\n",
        "print(tf.reshape(Y, (2, 3)), \"\\n\")\n",
        "\n",
        "print(\"Y transposed:\")\n",
        "print(tf.transpose(Y))"
      ],
      "metadata": {
        "colab": {
          "base_uri": "https://localhost:8080/"
        },
        "id": "uRJQRLwb2DXG",
        "outputId": "a63a5df1-f57b-4a3d-cec7-38cd50158ef7"
      },
      "execution_count": 75,
      "outputs": [
        {
          "output_type": "stream",
          "name": "stdout",
          "text": [
            "Normal Y:\n",
            "tf.Tensor(\n",
            "[[ 7  8]\n",
            " [ 9 10]\n",
            " [11 12]], shape=(3, 2), dtype=int32) \n",
            "\n",
            "Y reshaped to (2, 3):\n",
            "tf.Tensor(\n",
            "[[ 7  8  9]\n",
            " [10 11 12]], shape=(2, 3), dtype=int32) \n",
            "\n",
            "Y transposed:\n",
            "tf.Tensor(\n",
            "[[ 7  9 11]\n",
            " [ 8 10 12]], shape=(2, 3), dtype=int32)\n"
          ]
        }
      ]
    },
    {
      "cell_type": "code",
      "source": [
        "tf.matmul(X, tf.transpose(Y))"
      ],
      "metadata": {
        "colab": {
          "base_uri": "https://localhost:8080/"
        },
        "id": "YDao_DmU3ExH",
        "outputId": "c7fc518e-ce3d-46d1-be9e-cba0caa0a129"
      },
      "execution_count": 76,
      "outputs": [
        {
          "output_type": "execute_result",
          "data": {
            "text/plain": [
              "<tf.Tensor: shape=(3, 3), dtype=int32, numpy=\n",
              "array([[ 23,  29,  35],\n",
              "       [ 53,  67,  81],\n",
              "       [ 83, 105, 127]], dtype=int32)>"
            ]
          },
          "metadata": {},
          "execution_count": 76
        }
      ]
    },
    {
      "cell_type": "markdown",
      "source": [
        "###Generally, when performing matrix multiplication on two tensors and one of the axes doesn't line up, you will transpose (rather than reshape) one of the tensors to satisfy matrix multiplication rules.###"
      ],
      "metadata": {
        "id": "BNtU8i9Y3Ra7"
      }
    },
    {
      "cell_type": "markdown",
      "source": [
        "###Changing the datatype of a tensor###"
      ],
      "metadata": {
        "id": "pYcrC0I-3xw3"
      }
    },
    {
      "cell_type": "code",
      "source": [
        "# Create a new tensor with default datatype (foat32)\n",
        "B = tf.constant([1.7, 7.4])\n",
        "B.dtype"
      ],
      "metadata": {
        "colab": {
          "base_uri": "https://localhost:8080/"
        },
        "id": "pTDXWNxj3mM2",
        "outputId": "bf7d0665-e535-47dd-bf33-98470769482f"
      },
      "execution_count": 77,
      "outputs": [
        {
          "output_type": "execute_result",
          "data": {
            "text/plain": [
              "tf.float32"
            ]
          },
          "metadata": {},
          "execution_count": 77
        }
      ]
    },
    {
      "cell_type": "code",
      "source": [
        "C = tf.constant([7, 10])\n",
        "C.dtype"
      ],
      "metadata": {
        "colab": {
          "base_uri": "https://localhost:8080/"
        },
        "id": "3PQPZrGM4DcC",
        "outputId": "22fda985-f164-4e62-8bc6-e8c2bed6e248"
      },
      "execution_count": 79,
      "outputs": [
        {
          "output_type": "execute_result",
          "data": {
            "text/plain": [
              "tf.int32"
            ]
          },
          "metadata": {},
          "execution_count": 79
        }
      ]
    },
    {
      "cell_type": "code",
      "source": [
        "# Change from float32 to float16 (reduced precision)\n"
      ],
      "metadata": {
        "id": "ld9MugFl4MTc"
      },
      "execution_count": null,
      "outputs": []
    }
  ]
}